{
 "cells": [
  {
   "cell_type": "markdown",
   "id": "67e4c234",
   "metadata": {},
   "source": [
    "# Hands Gesture Classifier\n",
    "\n",
    "\n",
    "### Table of Contents:\n",
    "1. [Import of libraries](#0)\n",
    "2. [Data mining](#1)\n",
    "3. [Preprocessing](#2)\n",
    "4. [Classifiers](#3)\n",
    "5. [Testing](#4)\n",
    "6. [Compare the results](#5)\n"
   ]
  },
  {
   "cell_type": "markdown",
   "id": "bc1be803",
   "metadata": {},
   "source": [
    "## <a name='0'></a>1. Import of libraries"
   ]
  },
  {
   "cell_type": "code",
   "execution_count": 3,
   "id": "60ebd78f",
   "metadata": {},
   "outputs": [
    {
     "name": "stdout",
     "output_type": "stream",
     "text": [
      "Requirement already satisfied: opencv-python==4.5.3.56 in c:\\programdata\\anaconda3\\lib\\site-packages (4.5.3.56)\n",
      "Requirement already satisfied: numpy>=1.17.3 in c:\\programdata\\anaconda3\\lib\\site-packages (from opencv-python==4.5.3.56) (1.20.1)\n",
      "Requirement already satisfied: mediapipe==0.8.8 in c:\\users\\jansz\\appdata\\roaming\\python\\python38\\site-packages (0.8.8)\n",
      "Requirement already satisfied: six in c:\\programdata\\anaconda3\\lib\\site-packages (from mediapipe==0.8.8) (1.15.0)\n",
      "Requirement already satisfied: absl-py in c:\\users\\jansz\\appdata\\roaming\\python\\python38\\site-packages (from mediapipe==0.8.8) (0.14.1)\n",
      "Requirement already satisfied: wheel in c:\\programdata\\anaconda3\\lib\\site-packages (from mediapipe==0.8.8) (0.36.2)\n",
      "Requirement already satisfied: protobuf>=3.11.4 in c:\\programdata\\anaconda3\\lib\\site-packages (from mediapipe==0.8.8) (3.18.1)\n",
      "Requirement already satisfied: attrs>=19.1.0 in c:\\programdata\\anaconda3\\lib\\site-packages (from mediapipe==0.8.8) (20.3.0)\n",
      "Requirement already satisfied: numpy in c:\\programdata\\anaconda3\\lib\\site-packages (from mediapipe==0.8.8) (1.20.1)\n",
      "Requirement already satisfied: opencv-contrib-python in c:\\users\\jansz\\appdata\\roaming\\python\\python38\\site-packages (from mediapipe==0.8.8) (4.5.3.56)\n",
      "Requirement already satisfied: matplotlib in c:\\programdata\\anaconda3\\lib\\site-packages (from mediapipe==0.8.8) (3.3.4)\n",
      "Requirement already satisfied: kiwisolver>=1.0.1 in c:\\programdata\\anaconda3\\lib\\site-packages (from matplotlib->mediapipe==0.8.8) (1.3.1)\n",
      "Requirement already satisfied: pyparsing!=2.0.4,!=2.1.2,!=2.1.6,>=2.0.3 in c:\\programdata\\anaconda3\\lib\\site-packages (from matplotlib->mediapipe==0.8.8) (2.4.7)\n",
      "Requirement already satisfied: cycler>=0.10 in c:\\programdata\\anaconda3\\lib\\site-packages (from matplotlib->mediapipe==0.8.8) (0.10.0)\n",
      "Requirement already satisfied: python-dateutil>=2.1 in c:\\programdata\\anaconda3\\lib\\site-packages (from matplotlib->mediapipe==0.8.8) (2.8.1)\n",
      "Requirement already satisfied: pillow>=6.2.0 in c:\\programdata\\anaconda3\\lib\\site-packages (from matplotlib->mediapipe==0.8.8) (8.2.0)\n"
     ]
    }
   ],
   "source": [
    "!pip install opencv-python==4.5.3.56 \n",
    "!pip install mediapipe==0.8.8 "
   ]
  },
  {
   "cell_type": "code",
   "execution_count": 4,
   "id": "c0df4e25",
   "metadata": {},
   "outputs": [
    {
     "data": {
      "text/plain": [
       "'0.24.1'"
      ]
     },
     "execution_count": 4,
     "metadata": {},
     "output_type": "execute_result"
    }
   ],
   "source": [
    "import numpy as np\n",
    "import pandas as pd\n",
    "import sklearn\n",
    "import matplotlib.pyplot as plt\n",
    "\n",
    "import csv\n",
    "import os\n",
    "\n",
    "import hand_detector as hd\n",
    "from models import ActionType, HandType\n",
    "\n",
    "import mediapipe as mp # Import mediapipe\n",
    "import cv2 # Import opencv\n",
    "\n",
    "sklearn.__version__"
   ]
  },
  {
   "cell_type": "markdown",
   "id": "fc3c7758",
   "metadata": {},
   "source": [
    "### Constants variables"
   ]
  },
  {
   "cell_type": "code",
   "execution_count": 24,
   "id": "419feedf",
   "metadata": {},
   "outputs": [],
   "source": [
    "COORDS_FILE_NAME = 'hand_gesture_coords.csv'"
   ]
  },
  {
   "cell_type": "markdown",
   "id": "89ea24f5",
   "metadata": {},
   "source": [
    "## <a name='1'></a>2. Data mining"
   ]
  },
  {
   "cell_type": "markdown",
   "id": "84e03a29",
   "metadata": {},
   "source": [
    "### Implement Simple Camera Capture"
   ]
  },
  {
   "cell_type": "code",
   "execution_count": 82,
   "id": "03e405d0",
   "metadata": {},
   "outputs": [],
   "source": [
    "hand_landmarks_list = []\n",
    "hand = None"
   ]
  },
  {
   "cell_type": "code",
   "execution_count": 83,
   "id": "f2de08fe",
   "metadata": {
    "scrolled": false
   },
   "outputs": [],
   "source": [
    "cam_width, cam_height = 1280, 720\n",
    "\n",
    "cap = cv2.VideoCapture(0)\n",
    "cap.set(3, cam_width)\n",
    "cap.set(4, cam_height)\n",
    "\n",
    "detector = hd.HandDetector(max_num_hands=2)\n",
    "    \n",
    "while cap.isOpened():\n",
    "    success, img = cap.read()\n",
    "    \n",
    "    all_hands, img = detector.find_hands(img)\n",
    "    if all_hands:\n",
    "        hand = all_hands[0]\n",
    "        hand_landmarks_list = all_hands[0].landmarks\n",
    "\n",
    "    cv2.imshow(\"Hands Gesture Classifier\", img)\n",
    "    if cv2.waitKey(10) & 0xFF == ord('q'):\n",
    "        break\n",
    "\n",
    "cap.release()\n",
    "cv2.destroyAllWindows()"
   ]
  },
  {
   "cell_type": "code",
   "execution_count": 84,
   "id": "3e67eb27",
   "metadata": {
    "scrolled": true
   },
   "outputs": [
    {
     "name": "stdout",
     "output_type": "stream",
     "text": [
      "[[441, 419, 0.0], [505, 399, -0.016030842438340187], [556, 355, -0.022268028929829597], [589, 314, -0.02916538715362549], [618, 284, -0.036181047558784485], [510, 263, -0.002410688204690814], [531, 202, -0.014059805311262608], [541, 163, -0.023328524082899094], [550, 129, -0.02993302047252655], [472, 249, -0.007682662457227707], [487, 177, -0.017369084060192108], [496, 133, -0.028029926121234894], [504, 94, -0.03670836612582207], [435, 250, -0.016913091763854027], [439, 180, -0.03118155710399151], [445, 136, -0.0445057637989521], [452, 99, -0.05338646098971367], [397, 265, -0.02852746658027172], [383, 208, -0.04240858927369118], [378, 171, -0.05234764888882637], [378, 137, -0.059074778109788895]]\n"
     ]
    },
    {
     "data": {
      "text/plain": [
       "21"
      ]
     },
     "execution_count": 84,
     "metadata": {},
     "output_type": "execute_result"
    }
   ],
   "source": [
    "number_coords = len(hand_landmarks_list)\n",
    "print(hand_landmarks_list)\n",
    "number_coords"
   ]
  },
  {
   "cell_type": "code",
   "execution_count": 90,
   "id": "84e415bc",
   "metadata": {},
   "outputs": [
    {
     "data": {
      "text/plain": [
       "<matplotlib.collections.PathCollection at 0x178480a09d0>"
      ]
     },
     "execution_count": 90,
     "metadata": {},
     "output_type": "execute_result"
    },
    {
     "data": {
      "image/png": "[encoded data removed]",
      "text/plain": [
       "<Figure size 432x288 with 1 Axes>"
      ]
     },
     "metadata": {
      "needs_background": "light"
     },
     "output_type": "display_data"
    }
   ],
   "source": [
    "x = []\n",
    "y = []\n",
    "\n",
    "for landmark in hand_landmarks_list: \n",
    "    x.append(landmark[0])\n",
    "    y.append(landmark[1])\n",
    "    \n",
    "for index, coord in enumerate(zip(x, y)):\n",
    "    plt.text(coord[0] - 5, coord[1] - 5, index, color='blue')\n",
    "    \n",
    "\n",
    "plt.gca().invert_yaxis()\n",
    "plt.gca().invert_xaxis()\n",
    "\n",
    "plt.scatter(x, y)"
   ]
  },
  {
   "cell_type": "markdown",
   "id": "5ece0b0b",
   "metadata": {},
   "source": [
    "### Prepare dataset file (.csv)"
   ]
  },
  {
   "cell_type": "code",
   "execution_count": 62,
   "id": "23e12367",
   "metadata": {},
   "outputs": [
    {
     "data": {
      "text/plain": [
       "['target',\n",
       " 'x1',\n",
       " 'y1',\n",
       " 'z1',\n",
       " 'x2',\n",
       " 'y2',\n",
       " 'z2',\n",
       " 'x3',\n",
       " 'y3',\n",
       " 'z3',\n",
       " 'x4',\n",
       " 'y4',\n",
       " 'z4',\n",
       " 'x5',\n",
       " 'y5',\n",
       " 'z5',\n",
       " 'x6',\n",
       " 'y6',\n",
       " 'z6',\n",
       " 'x7',\n",
       " 'y7',\n",
       " 'z7',\n",
       " 'x8',\n",
       " 'y8',\n",
       " 'z8',\n",
       " 'x9',\n",
       " 'y9',\n",
       " 'z9',\n",
       " 'x10',\n",
       " 'y10',\n",
       " 'z10',\n",
       " 'x11',\n",
       " 'y11',\n",
       " 'z11',\n",
       " 'x12',\n",
       " 'y12',\n",
       " 'z12',\n",
       " 'x13',\n",
       " 'y13',\n",
       " 'z13',\n",
       " 'x14',\n",
       " 'y14',\n",
       " 'z14',\n",
       " 'x15',\n",
       " 'y15',\n",
       " 'z15',\n",
       " 'x16',\n",
       " 'y16',\n",
       " 'z16',\n",
       " 'x17',\n",
       " 'y17',\n",
       " 'z17',\n",
       " 'x18',\n",
       " 'y18',\n",
       " 'z18',\n",
       " 'x19',\n",
       " 'y19',\n",
       " 'z19',\n",
       " 'x20',\n",
       " 'y20',\n",
       " 'z20',\n",
       " 'x21',\n",
       " 'y21',\n",
       " 'z21']"
      ]
     },
     "execution_count": 62,
     "metadata": {},
     "output_type": "execute_result"
    }
   ],
   "source": [
    "columns = ['target']\n",
    "for val in range(1, number_coords + 1):\n",
    "    columns += ['x{}'.format(val), 'y{}'.format(val), 'z{}'.format(val)]\n",
    "    \n",
    "columns"
   ]
  },
  {
   "cell_type": "markdown",
   "id": "f7459a30",
   "metadata": {},
   "source": [
    "Create dataset file and save prepared columns names in it "
   ]
  },
  {
   "cell_type": "code",
   "execution_count": 67,
   "id": "dc7935b4",
   "metadata": {},
   "outputs": [],
   "source": [
    "with open(COORDS_FILE_NAME, mode='w', newline='') as f:\n",
    "    csv_writer = csv.writer(f, delimiter=',', quotechar='\"', quoting=csv.QUOTE_MINIMAL)\n",
    "    csv_writer.writerow(columns)"
   ]
  },
  {
   "cell_type": "code",
   "execution_count": 68,
   "id": "0720df89",
   "metadata": {},
   "outputs": [
    {
     "name": "stdout",
     "output_type": "stream",
     "text": [
      "ActionType.CLICK\n",
      "ActionType.RESET\n",
      "ActionType.GRAB\n",
      "ActionType.GO_BACK\n",
      "ActionType.GO_FORWARD\n"
     ]
    }
   ],
   "source": [
    "for a in ActionType:\n",
    "    print(a)"
   ]
  },
  {
   "cell_type": "markdown",
   "id": "fc11e724",
   "metadata": {},
   "source": [
    "### Create hand gesture dataset "
   ]
  },
  {
   "cell_type": "code",
   "execution_count": 22,
   "id": "870419c8",
   "metadata": {},
   "outputs": [],
   "source": [
    "def create_gesture_dataset(action_type: ActionType, hand_type: HandType, sample_num = 100):\n",
    "    \"\"\"\n",
    "    The function reads the location with all landmarks via a webcam. Pre-processes the data. \n",
    "    It also saves the finished data in a file.\n",
    "    :param action_type: Action type for which the samples will be created.\n",
    "    :param hand_type: Type of hand for which the samples will be created.\n",
    "    :param sample_num: Number of samples created for action type.\n",
    "    \"\"\"\n",
    "    cam_width, cam_height = 1280, 720\n",
    "    cap = cv2.VideoCapture(0)\n",
    "    cap.set(3, cam_width)\n",
    "    cap.set(4, cam_height)\n",
    "\n",
    "    detector = hd.HandDetector(max_num_hands=2)\n",
    "\n",
    "    while cap.isOpened():\n",
    "        success, img = cap.read()\n",
    "        all_hands, img = detector.find_hands(img)\n",
    "       \n",
    "        for hand in all_hands:\n",
    "            if hand.type == hand_type:\n",
    "                row = list(np.array(hand.landmarks).flatten())\n",
    "                row.insert(0, action_type.value) \n",
    "                \n",
    "#                 Save to file\n",
    "                with open(COORDS_FILE_NAME, mode='a', newline='') as f:\n",
    "                    csv_writer = csv.writer(f, delimiter=',', quotechar='\"', quoting=csv.QUOTE_MINIMAL)\n",
    "                    csv_writer.writerow(row)\n",
    "                \n",
    "                sample_num = sample_num - 1\n",
    "        \n",
    "        \n",
    "            \n",
    "        cv2.imshow(\"Hands Gesture Classifier\", img)\n",
    "        \n",
    "        if sample_num <= 0:\n",
    "            break\n",
    "        if cv2.waitKey(10) & 0xFF == ord('q'):\n",
    "            break\n",
    "\n",
    "    cap.release()\n",
    "    cv2.destroyAllWindows()"
   ]
  },
  {
   "cell_type": "code",
   "execution_count": 23,
   "id": "a9c4a507",
   "metadata": {},
   "outputs": [
    {
     "name": "stdout",
     "output_type": "stream",
     "text": [
      "99\n",
      "98\n",
      "97\n",
      "96\n",
      "95\n",
      "94\n",
      "93\n",
      "92\n",
      "91\n",
      "90\n",
      "89\n",
      "88\n",
      "87\n",
      "86\n",
      "85\n",
      "84\n",
      "83\n",
      "82\n",
      "81\n",
      "80\n",
      "79\n",
      "78\n",
      "77\n",
      "76\n",
      "75\n",
      "74\n",
      "73\n",
      "72\n",
      "71\n",
      "70\n",
      "69\n",
      "68\n",
      "67\n",
      "66\n",
      "65\n",
      "64\n",
      "63\n",
      "62\n",
      "61\n",
      "60\n",
      "59\n",
      "58\n",
      "57\n",
      "56\n",
      "55\n",
      "54\n",
      "53\n",
      "52\n",
      "51\n",
      "50\n",
      "49\n",
      "48\n",
      "47\n",
      "46\n",
      "45\n",
      "44\n",
      "43\n",
      "42\n",
      "41\n",
      "40\n",
      "39\n",
      "38\n",
      "37\n",
      "36\n",
      "35\n",
      "34\n",
      "33\n",
      "32\n",
      "31\n",
      "30\n",
      "29\n",
      "28\n",
      "27\n",
      "26\n",
      "25\n",
      "24\n",
      "23\n",
      "22\n",
      "21\n",
      "20\n",
      "19\n",
      "18\n",
      "17\n",
      "16\n",
      "15\n",
      "14\n",
      "13\n",
      "12\n",
      "11\n",
      "10\n",
      "9\n",
      "8\n",
      "7\n",
      "6\n",
      "5\n",
      "4\n",
      "3\n",
      "2\n",
      "1\n",
      "0\n"
     ]
    }
   ],
   "source": [
    "create_gesture_dataset(ActionType(0), HandType.RIGHT)"
   ]
  },
  {
   "cell_type": "markdown",
   "id": "725d0950",
   "metadata": {},
   "source": [
    "## <a name='2'></a>3. Preprocessing\n"
   ]
  },
  {
   "cell_type": "code",
   "execution_count": 19,
   "id": "f8aee15e",
   "metadata": {},
   "outputs": [],
   "source": [
    "# Prepocessing code"
   ]
  },
  {
   "cell_type": "markdown",
   "id": "0398e808",
   "metadata": {},
   "source": [
    "## <a name='3'></a>4. Classifiers\n"
   ]
  },
  {
   "cell_type": "code",
   "execution_count": 24,
   "id": "9f537eab",
   "metadata": {},
   "outputs": [],
   "source": [
    "\"\"\"\n",
    "    This function fetches stock market quotations.\n",
    "\"\"\"\n",
    "\n",
    "list = np.array([2,3,4])"
   ]
  },
  {
   "cell_type": "markdown",
   "id": "a1231ceb",
   "metadata": {},
   "source": [
    "## <a name='4'></a>5. Testing"
   ]
  },
  {
   "cell_type": "code",
   "execution_count": 16,
   "id": "ece390d6",
   "metadata": {},
   "outputs": [],
   "source": [
    "# testing code"
   ]
  },
  {
   "cell_type": "markdown",
   "id": "bb27520b",
   "metadata": {},
   "source": [
    "## <a name='5'></a>6. Compare the results"
   ]
  },
  {
   "cell_type": "code",
   "execution_count": null,
   "id": "dd7e812a",
   "metadata": {},
   "outputs": [],
   "source": []
  },
  {
   "cell_type": "code",
   "execution_count": null,
   "id": "cdbff74b",
   "metadata": {},
   "outputs": [],
   "source": []
  }
 ],
 "metadata": {
  "kernelspec": {
   "display_name": "Python 3",
   "language": "python",
   "name": "python3"
  },
  "language_info": {
   "codemirror_mode": {
    "name": "ipython",
    "version": 3
   },
   "file_extension": ".py",
   "mimetype": "text/x-python",
   "name": "python",
   "nbconvert_exporter": "python",
   "pygments_lexer": "ipython3",
   "version": "3.8.8"
  }
 },
 "nbformat": 4,
 "nbformat_minor": 5
}